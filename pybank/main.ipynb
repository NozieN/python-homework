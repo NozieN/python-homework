{
 "cells": [
  {
   "cell_type": "code",
   "execution_count": 1,
   "id": "b31cb54a",
   "metadata": {},
   "outputs": [],
   "source": [
    "import pandas as pd \n"
   ]
  },
  {
   "cell_type": "code",
   "execution_count": 14,
   "id": "c95075f9",
   "metadata": {},
   "outputs": [],
   "source": [
    "df = pd.read_csv('budget_data.csv')"
   ]
  },
  {
   "cell_type": "code",
   "execution_count": 36,
   "id": "38c835ea",
   "metadata": {},
   "outputs": [
    {
     "name": "stdout",
     "output_type": "stream",
     "text": [
      "Total Months: 86\n",
      "Total: $38382578\n",
      "Average Change: $-2315.12\n",
      "Greatest Increase in Profits: Feb-2012 ($1926159)\n",
      "Greatest Increase in Profits: Sep-2013 ($-2196167)\n"
     ]
    }
   ],
   "source": [
    "df['FullDate'] = pd.to_datetime(df['Date'])\n",
    "\n",
    "#extract year and month from datetime column\n",
    "df['Year'] = pd.DatetimeIndex(df['FullDate']).year\n",
    "\n",
    "df['Month'] = pd.DatetimeIndex(df['FullDate']).month\n",
    "\n",
    "#create month-year pairs\n",
    "df['MonthYear'] = pd.to_datetime(df['FullDate']).dt.to_period('M')\n",
    "\n",
    "#print number of unique months\n",
    "print (\"Total Months:\" ,df['Date'].nunique())\n",
    "\n",
    "#print profit/loss total\n",
    "print(\"Total: $\"+str(df['Profit/Losses'].sum()))\n",
    "\n",
    "#In order to calculate  the change from one month to the next, create a new column and record the value by shifting the current month 1 row down.\n",
    "df['Profit/Loss_Shifted']=df['Profit/Losses'].shift(1)\n",
    "\n",
    "#create a column to record the chnage between shifted value(previous month) and the current month\n",
    "df['Change']=df['Profit/Losses']-df['Profit/Loss_Shifted']\n",
    "print(\"Average Change: $\"+str(round(df['Change'].mean(),2)))\n",
    "\n",
    "#print the maximum positive change \n",
    "print(\"Greatest Increase in Profits: \" +df['Date'][df['Change'] == df['Change'].max()].iloc[0]+ \" ($\"+str(int(df['Change'].max()))+\")\")\n",
    "\n",
    "#print the maximum negative change  \n",
    "print(\"Greatest Increase in Profits: \" +df['Date'][df['Change'] == df['Change'].min()].iloc[0]+ \" ($\"+str(int(df['Change'].min()))+\")\")\n",
    "\n"
   ]
  },
  {
   "cell_type": "code",
   "execution_count": null,
   "id": "702fe4f6",
   "metadata": {},
   "outputs": [],
   "source": []
  }
 ],
 "metadata": {
  "kernelspec": {
   "display_name": "Python 3",
   "language": "python",
   "name": "python3"
  },
  "language_info": {
   "codemirror_mode": {
    "name": "ipython",
    "version": 3
   },
   "file_extension": ".py",
   "mimetype": "text/x-python",
   "name": "python",
   "nbconvert_exporter": "python",
   "pygments_lexer": "ipython3",
   "version": "3.8.8"
  }
 },
 "nbformat": 4,
 "nbformat_minor": 5
}
